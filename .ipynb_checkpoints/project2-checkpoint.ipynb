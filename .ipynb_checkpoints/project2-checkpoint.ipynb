{
 "cells": [
  {
   "cell_type": "markdown",
   "id": "e612725c-9b32-4213-9d8a-fb2f2f8b3247",
   "metadata": {},
   "source": [
    "### DATA620 - Project 2\n",
    "#### Michael Ippolito\n",
    "6/20/2022\n"
   ]
  },
  {
   "cell_type": "markdown",
   "id": "50de51e7-3279-4fa6-90f3-38903ebe2958",
   "metadata": {},
   "source": [
    "1. Identify a large 2-node network dataset—you can start with a dataset in a repository.  Your data should meet the criteria that it consists of ties between and not within two (or more) distinct groups.\n",
    "1. Reduce the size of the network using a method such as the island method described in chapter 4 of social network analysis.\n",
    "1. What can you infer about each of the distinct groups? \\\n",
    "\\\n",
    "You may work in a small group on the project. Your code and analysis should be delivered in an IPython Notebook by end of day Sunday. "
   ]
  },
  {
   "cell_type": "markdown",
   "id": "ad4bd6e7-6706-4da4-9bce-64c281507cc9",
   "metadata": {},
   "source": [
    "### Project Overview\n",
    "\n",
    "For this project, I'll analyze a large bipartite dataset of book readers. Nodes are either readers (top nodes) or books (bottom nodes). This is a large dataset (271,000 books and 278,000 readers). To save processing time, only the first 20,000 of each will be analyzed. Readers have been deidentified but have location and ages provided. Books are listed by ISBN. The main goal is to identify similar books based on the readers who read them.\n",
    "\n",
    "Soure: http://www.informatik.uni-freiburg.de/~cziegler/BX/"
   ]
  },
  {
   "cell_type": "markdown",
   "id": "c0b33680-2334-4631-a776-041074e07705",
   "metadata": {},
   "source": [
    "### Link to video presentation\n",
    "\n",
    "[Video](https://github.com/mmippolito/cuny_data620_project2/blob/main/ippolito_video.m4a?raw=true)"
   ]
  },
  {
   "cell_type": "code",
   "execution_count": 2,
   "id": "4179998e-8f21-4fa4-9ed8-6b8230c4cc0e",
   "metadata": {},
   "outputs": [
    {
     "name": "stdout",
     "output_type": "stream",
     "text": [
      "Using nx version 2.6.3 due to error module 'scipy.sparse' has no attribute 'coo_array.'\n"
     ]
    }
   ],
   "source": [
    "# Load libraries\n",
    "#import pkg_resources\n",
    "#pkg_resources.require(\"networkx==2.6.3\")\n",
    "import networkx as nx\n",
    "import networkx.algorithms.bipartite as bipartite\n",
    "print(\"Using nx version\", nx.__version__, \"due to error module 'scipy.sparse' has no attribute 'coo_array.'\")\n",
    "import matplotlib.pyplot as plt\n",
    "import csv\n",
    "import os\n",
    "import requests\n",
    "import numpy as np\n",
    "from scipy import stats\n",
    "import pandas as pd\n",
    "from collections import Counter\n",
    "import plotly.express as px\n",
    "import plotly.io as pio\n",
    "pio.renderers.default = 'jupyterlab'    # set ploty renderer so graphs show up in HTML output\n"
   ]
  },
  {
   "cell_type": "markdown",
   "id": "876beb66-e3fa-4616-8738-e256976e393a",
   "metadata": {},
   "source": [
    "### Fetch data\n",
    "\n",
    "First, fetch the data from my github repo if it already isn't on the local drive.\n"
   ]
  },
  {
   "cell_type": "code",
   "execution_count": 3,
   "id": "67df406d-4d6d-4d69-ab5e-d5353f30d339",
   "metadata": {},
   "outputs": [],
   "source": [
    "# Fetch data from github repo and store in current directory\n",
    "def fetch_data(fn):\n",
    "    if not os.path.exists(fn):\n",
    "        print('Downloading', fn)\n",
    "        try:\n",
    "            r = requests.get('https://github.com/mmippolito/cuny_data620_project2/blob/main/' + fn + '?raw=true').text\n",
    "            fh = open(fn, 'w', encoding='utf-8')\n",
    "            fh.write(r)\n",
    "            fh.close()\n",
    "        except:\n",
    "            return 1\n",
    "    return 0\n",
    "\n",
    "# Fetch data\n",
    "err = 0\n",
    "err += fetch_data('BX-Users.csv')\n",
    "err += fetch_data('BX-Books.csv')\n",
    "err += fetch_data('BX-Book-Ratings.csv')\n",
    "if err > 0:\n",
    "    assert(False, 'An error occured trying to download or save one or more of the data files.')\n"
   ]
  },
  {
   "cell_type": "markdown",
   "id": "68b15dd7-afe9-4bc7-b43a-0a309dd6cf49",
   "metadata": {},
   "source": [
    "### Populate graph\n",
    "\n",
    "Create and populate the graph by reading in user nodes, book nodes, and edges. Only examine the first 20,000 nodes of each type to speed up processing time (I let nx.draw run for an hour with the full set before cancelling it).\n"
   ]
  },
  {
   "cell_type": "code",
   "execution_count": 4,
   "id": "0cadce77-ea49-45da-8ff0-fff5f9b68820",
   "metadata": {},
   "outputs": [],
   "source": [
    "# Create graph object\n",
    "g = nx.Graph()\n",
    "\n",
    "# Populate user nodes; data looks like this:\n",
    "# \"User-ID\";\"Location\";\"Age\"\n",
    "fh = open('BX-Users.csv', 'r')\n",
    "rdr = csv.reader(fh, delimiter=';')\n",
    "ct = 0\n",
    "for row in rdr:\n",
    "    ct += 1\n",
    "    if row[0] == 'User-ID':    # skip header\n",
    "        continue\n",
    "    g.add_node(int(row[0]), loc=row[1], age=row[2], bipartite=0)\n",
    "    if ct > 20000:\n",
    "        break\n",
    "fh.close()\n",
    "\n",
    "# Populate book nodes; data looks like this:\n",
    "# \"ISBN\";\"Book-Title\";\"Book-Author\";\"Year-Of-Publication\";\"Publisher\";\"Image-URL-S\";\"Image-URL-M\";\"Image-URL-L\"\n",
    "fh = open('BX-Books.csv', 'r')\n",
    "rdr = csv.reader(fh, delimiter=';')\n",
    "ct = 0\n",
    "for row in rdr:\n",
    "    ct += 1\n",
    "    if row[0] == 'ISBN':    # skip header\n",
    "        continue\n",
    "    g.add_node(str(row[0]), title=row[1], author=row[2], year=row[3], pub=row[4], bipartite=1)\n",
    "    if ct > 20000:\n",
    "        break\n",
    "fh.close()\n",
    "\n",
    "# Add edges; data looks like this:\n",
    "# \"User-ID\";\"ISBN\";\"Book-Rating\"\n",
    "fh = open('BX-Book-Ratings.csv', 'r')\n",
    "rdr = csv.reader(fh, delimiter=';')\n",
    "for row in rdr:\n",
    "    if row[0] == 'User-ID':    # skip header\n",
    "        continue\n",
    "    if int(row[0]) in g.nodes and row[1] in g.nodes:\n",
    "        g.add_edge(int(row[0]), str(row[1]), wt=float(row[2]))\n",
    "fh.close()\n"
   ]
  },
  {
   "cell_type": "markdown",
   "id": "3d2f6309-f363-4c37-876b-e8cc12f32b0d",
   "metadata": {},
   "source": [
    "### Function to trim edges\n",
    "\n",
    "Define function to trim edges based on weight.\n"
   ]
  },
  {
   "cell_type": "code",
   "execution_count": 5,
   "id": "437ab764-5b3b-4ace-8e1b-9d9e19b2c7ac",
   "metadata": {},
   "outputs": [],
   "source": [
    "# Define function to trim edges based on weight; modified from source:\n",
    "# Maksim Tsvetovat & Alexander Kouznetsov, Social Network Analysis for Startups, 2011\n",
    "def trim_edges(g, weight=1):\n",
    "    g2 = nx.Graph()\n",
    "    for f, to, edata in g.edges(data=True):\n",
    "        if edata['weight'] > weight:\n",
    "            if f not in g2.nodes:\n",
    "                if g.nodes(data=True)[f]['bipartite'] == 0:\n",
    "                    g2.add_node(f, loc=g.nodes(data=True)[f]['loc'], age=g.nodes(data=True)[f]['age'], bipartite=0)\n",
    "                else:\n",
    "                    g2.add_node(f, title=g.nodes(data=True)[f]['title'], author=g.nodes(data=True)[f]['author'], year=g.nodes(data=True)[f]['year'], pub=g.nodes(data=True)[f]['pub'], bipartite=1)\n",
    "            if to not in g2.nodes:\n",
    "                if g.nodes(data=True)[to]['bipartite'] == 0:\n",
    "                    g2.add_node(to, loc=g.nodes(data=True)[to]['loc'], age=g.nodes(data=True)[to]['age'], bipartite=0)\n",
    "                else:\n",
    "                    g2.add_node(to, title=g.nodes(data=True)[to]['title'], author=g.nodes(data=True)[to]['author'], year=g.nodes(data=True)[to]['year'], pub=g.nodes(data=True)[to]['pub'], bipartite=1)\n",
    "            g2.add_edge(f, to, weight=edata['weight'])\n",
    "    return g2\n"
   ]
  },
  {
   "cell_type": "markdown",
   "id": "7b6a723e-0e5f-4dfe-9a66-983f84b47a28",
   "metadata": {},
   "source": [
    "### Projection\n",
    "\n",
    "Assign top and bottom nodes (users and books, respectively), then project books onto the graph.\n"
   ]
  },
  {
   "cell_type": "code",
   "execution_count": 6,
   "id": "cfe2e00f-b944-45f0-9441-9924e26b66eb",
   "metadata": {},
   "outputs": [],
   "source": [
    "# Assign top and bottom nodes (users and books, respectively)\n",
    "users = [n[0] for n in g.nodes(data=True) if n[1]['bipartite'] == 0]\n",
    "books = [n[0] for n in g.nodes(data=True) if n[1]['bipartite'] == 1]\n",
    "\n",
    "# Project weighted users onto graph\n",
    "gw = bipartite.weighted_projected_graph(g, books)\n"
   ]
  },
  {
   "cell_type": "markdown",
   "id": "9defa372-f40c-437a-a239-359ccab66c46",
   "metadata": {},
   "source": [
    "### Evaluate subgraphs\n",
    "\n",
    "Examine subgraphs of projected graph. These will be books linked with each other via readers.\n"
   ]
  },
  {
   "cell_type": "code",
   "execution_count": 7,
   "id": "303fed3e-58af-47e6-8a59-1fef6e654f26",
   "metadata": {},
   "outputs": [
    {
     "name": "stdout",
     "output_type": "stream",
     "text": [
      "Unique lengths of component graphs: {1: 1123, 18256: 1, 4: 11, 2: 117, 3: 51, 8: 2, 6: 9, 13: 1, 5: 8, 17: 1, 10: 1, 7: 2, 12: 1, 14: 1}\n"
     ]
    },
    {
     "data": {
      "image/png": "[encoded data removed]",
      "text/plain": [
       "<Figure size 432x288 with 1 Axes>"
      ]
     },
     "metadata": {
      "needs_background": "light"
     },
     "output_type": "display_data"
    }
   ],
   "source": [
    "# Get lengths of connected component subgraphs\n",
    "x = [len(c) for c in nx.connected_components(gw)]\n",
    "print('Unique lengths of component graphs:', dict(Counter(x)))\n",
    "plt.hist(x, bins=15)\n",
    "plt.yscale('log')\n",
    "plt.xlabel('Subgraph length')\n",
    "plt.ylabel('Count of sugraph lengths (log scale)')\n",
    "plt.show()"
   ]
  },
  {
   "cell_type": "markdown",
   "id": "a3f8a777-bc60-45da-b4ca-d7b11352cdc8",
   "metadata": {},
   "source": [
    "There is one very large subgraph containing 18256 nodes; this is the one we'll want to examine.\n"
   ]
  },
  {
   "cell_type": "markdown",
   "id": "9930a704-8fc1-4f05-8ca6-66ed228598d6",
   "metadata": {},
   "source": [
    "### Trim edges\n",
    "\n",
    "Trim the edges of nodes that are only connected to one or two other nodes.\n"
   ]
  },
  {
   "cell_type": "code",
   "execution_count": 8,
   "id": "a3c24340-0896-4cf4-be72-3585b41eca79",
   "metadata": {},
   "outputs": [
    {
     "name": "stdout",
     "output_type": "stream",
     "text": [
      "Length before trimming: 20000 , length after trimming: 2352\n",
      "After trimming, unique lengths of component graphs: {2302: 1, 3: 5, 2: 13, 9: 1}\n"
     ]
    },
    {
     "data": {
      "image/png": "[encoded data removed]",
      "text/plain": [
       "<Figure size 432x288 with 1 Axes>"
      ]
     },
     "metadata": {
      "needs_background": "light"
     },
     "output_type": "display_data"
    }
   ],
   "source": [
    "# Trim edges only connected to two other nodes\n",
    "g2 = trim_edges(gw, weight=2)\n",
    "print('Length before trimming:', len(gw), ', length after trimming:', len(g2))\n",
    "x = [len(c) for c in nx.connected_components(g2)]\n",
    "print('After trimming, unique lengths of component graphs:', dict(Counter(x)))\n",
    "plt.hist(x, bins=15)\n",
    "plt.xlabel('Subgraph length')\n",
    "plt.ylabel('Count of sugraph lengths')\n",
    "plt.show()\n"
   ]
  },
  {
   "cell_type": "code",
   "execution_count": 129,
   "id": "be425dad-43a3-4ce5-b3b1-f31b660493b5",
   "metadata": {},
   "outputs": [
    {
     "data": {
      "image/png": "[encoded data removed]",
      "text/plain": [
       "<Figure size 432x288 with 1 Axes>"
      ]
     },
     "metadata": {},
     "output_type": "display_data"
    }
   ],
   "source": [
    "# Draw trimmed graph\n",
    "nx.draw(g2)\n"
   ]
  },
  {
   "cell_type": "markdown",
   "id": "a02e6e45-b30d-43ec-86d6-fec411059dba",
   "metadata": {},
   "source": [
    "### Connected subgraphs\n",
    "\n",
    "Show connected subgraphs of trimmed graph. We're only interested in the biggest graphs.\n"
   ]
  },
  {
   "cell_type": "code",
   "execution_count": 10,
   "id": "426c99f6-7be4-41e7-a0f7-66f8b632c5a8",
   "metadata": {},
   "outputs": [
    {
     "name": "stdout",
     "output_type": "stream",
     "text": [
      "Sizes of connected subgraphs: [2302, 3, 2, 2, 9, 2, 2, 3, 2, 2, 3, 3, 2, 2, 2, 2, 2, 3, 2, 2]\n",
      "Graph with 2302 nodes and 71030 edges\n",
      "Graph with 9 nodes and 9 edges\n"
     ]
    },
    {
     "data": {
      "image/png": "[encoded data removed]",
      "text/plain": [
       "<Figure size 432x288 with 1 Axes>"
      ]
     },
     "metadata": {},
     "output_type": "display_data"
    },
    {
     "data": {
      "image/png": "[encoded data removed]",
      "text/plain": [
       "<Figure size 432x288 with 1 Axes>"
      ]
     },
     "metadata": {},
     "output_type": "display_data"
    }
   ],
   "source": [
    "# Show list of connected subgraphs\n",
    "cc = [c for c in nx.connected_components(g2)]\n",
    "print('Sizes of connected subgraphs:', [len(c) for c in cc])\n",
    "\n",
    "# This is the first subgraph with the large number of nodes\n",
    "sg = g2.subgraph(cc[0]).copy()\n",
    "print(sg)\n",
    "\n",
    "# This is the next largest subgroup, with only 9 nodes\n",
    "sg2 = g2.subgraph(cc[4]).copy()\n",
    "print(sg2)\n",
    "\n",
    "# Draw subgraphs\n",
    "plt.figure(1)\n",
    "nx.draw(sg)\n",
    "plt.figure(2)\n",
    "nx.draw(sg2)\n"
   ]
  },
  {
   "cell_type": "markdown",
   "id": "a6bf6b9c-6432-4eb4-98bc-e5039a705199",
   "metadata": {},
   "source": [
    "### Centrality metrics\n",
    "\n",
    "Compute centrality metrics:\n",
    "1. degree\n",
    "2. closeness\n",
    "3. betweenness\n",
    "4. eigenvector\n",
    "5. page rank"
   ]
  },
  {
   "cell_type": "code",
   "execution_count": 18,
   "id": "33fd2ce5-4ee0-48fa-8f43-d816dae3ec42",
   "metadata": {},
   "outputs": [
    {
     "name": "stdout",
     "output_type": "stream",
     "text": [
      "Top 10 books by degree centrality (large subgraph):\n",
      "1 (815 links) 067976402X {'title': 'Snow Falling on Cedars', 'author': 'David Guterson', 'year': '1995', 'pub': 'Vintage Books USA', 'bipartite': 1}\n",
      "2 (798 links) 0060928336 {'title': 'Divine Secrets of the Ya-Ya Sisterhood: A Novel', 'author': 'Rebecca Wells', 'year': '1997', 'pub': 'Perennial', 'bipartite': 1}\n",
      "3 (789 links) 0316666343 {'title': 'The Lovely Bones: A Novel', 'author': 'Alice Sebold', 'year': '2002', 'pub': 'Little, Brown', 'bipartite': 1}\n",
      "4 (756 links) 0440214041 {'title': 'The Pelican Brief', 'author': 'John Grisham', 'year': '1993', 'pub': 'Dell', 'bipartite': 1}\n",
      "5 (729 links) 0375727345 {'title': 'House of Sand and Fog', 'author': 'Andre Dubus III', 'year': '2000', 'pub': 'Vintage Books', 'bipartite': 1}\n",
      "6 (718 links) 0440213525 {'title': 'The Client', 'author': 'John Grisham', 'year': '1994', 'pub': 'Dell Publishing Company', 'bipartite': 1}\n",
      "7 (713 links) 0971880107 {'title': 'Wild Animus', 'author': 'Rich Shapero', 'year': '2004', 'pub': 'Too Far', 'bipartite': 1}\n",
      "8 (712 links) 0446672211 {'title': \"Where the Heart Is (Oprah's Book Club (Paperback))\", 'author': 'Billie Letts', 'year': '1998', 'pub': 'Warner Books', 'bipartite': 1}\n",
      "9 (709 links) 0060976845 {'title': 'Little Altars Everywhere: A Novel', 'author': 'Rebecca Wells', 'year': '1996', 'pub': 'Perennial', 'bipartite': 1}\n",
      "10 (702 links) 0743418174 {'title': 'Good in Bed', 'author': 'Jennifer Weiner', 'year': '2002', 'pub': 'Washington Square Press', 'bipartite': 1}\n",
      "\n",
      "Top 10 books by degree centrality (small subgraph):\n",
      "1 (4 links) 2253005274 {'title': 'Le Grand Meaulnes (Classiques De Poche)', 'author': 'Alain-Fournier', 'year': '2000', 'pub': 'Distribooks Inc', 'bipartite': 1}\n",
      "2 (4 links) 2070375161 {'title': 'La Ferme Des Animaux', 'author': 'George Orwell', 'year': '0', 'pub': 'Gallimard French', 'bipartite': 1}\n",
      "3 (3 links) 2253044903 {'title': \"Le Parfum : Histoire d'un meurtrier\", 'author': 'Patrick Sï¿½?Â¼skind', 'year': '1988', 'pub': 'LGF', 'bipartite': 1}\n",
      "4 (2 links) 2266022504 {'title': \"Si c'est un homme\", 'author': 'Primo Levi', 'year': '1988', 'pub': 'Presses Pocket', 'bipartite': 1}\n",
      "5 (1 links) 2253063339 {'title': 'Les Fourmis', 'author': 'Bernard Werber', 'year': '2002', 'pub': 'LGF', 'bipartite': 1}\n",
      "6 (1 links) 2070360024 {'title': \"L'Etranger (Collection Folio, 2)\", 'author': 'Albert Camus', 'year': '1990', 'pub': 'Gallimard Jeunesse', 'bipartite': 1}\n",
      "7 (1 links) 2290045764 {'title': 'Extension Du Domain De La Lutte', 'author': 'Michel Houellebecq', 'year': '2002', 'pub': 'European Book Co', 'bipartite': 1}\n",
      "8 (1 links) 2070364283 {'title': 'La Perle', 'author': 'John Steinbeck', 'year': '1973', 'pub': 'Gallimard', 'bipartite': 1}\n",
      "9 (1 links) 2290312959 {'title': 'Des fleurs pour algernon', 'author': 'Daniel Keyes', 'year': '2001', 'pub': \"J'ai lu\", 'bipartite': 1}\n",
      "\n"
     ]
    }
   ],
   "source": [
    "# Show the top 10 books by degree centrality\n",
    "cent = sorted(nx.degree(sg), key=lambda k: k[1], reverse=True)\n",
    "print('Top 10 books by degree centrality (large subgraph):')\n",
    "for i, b in enumerate(cent):\n",
    "    if i > 9: break\n",
    "    print(i+1, '(' + str(b[1]) + ' links)', b[0], sg.nodes(data=True)[b[0]])\n",
    "print()\n",
    "cent = sorted(nx.degree(sg2), key=lambda k: k[1], reverse=True)\n",
    "print('Top 10 books by degree centrality (small subgraph):')\n",
    "for i, b in enumerate(cent):\n",
    "    if i > 9: break\n",
    "    print(i+1, '(' + str(b[1]) + ' links)', b[0], sg2.nodes(data=True)[b[0]])\n",
    "print()\n"
   ]
  },
  {
   "cell_type": "code",
   "execution_count": 19,
   "id": "b0178882-4a65-4224-932e-efd095f56100",
   "metadata": {},
   "outputs": [
    {
     "name": "stdout",
     "output_type": "stream",
     "text": [
      "Top 10 books by closeness centrality (large graph):\n",
      "1 0.5962684633324695 067976402X {'title': 'Snow Falling on Cedars', 'author': 'David Guterson', 'year': '1995', 'pub': 'Vintage Books USA', 'bipartite': 1}\n",
      "2 0.5927357032457496 0060928336 {'title': 'Divine Secrets of the Ya-Ya Sisterhood: A Novel', 'author': 'Rebecca Wells', 'year': '1997', 'pub': 'Perennial', 'bipartite': 1}\n",
      "3 0.5896975909789851 0316666343 {'title': 'The Lovely Bones: A Novel', 'author': 'Alice Sebold', 'year': '2002', 'pub': 'Little, Brown', 'bipartite': 1}\n",
      "4 0.5853472398880692 0440214041 {'title': 'The Pelican Brief', 'author': 'John Grisham', 'year': '1993', 'pub': 'Dell', 'bipartite': 1}\n",
      "5 0.5806207418622256 0375727345 {'title': 'House of Sand and Fog', 'author': 'Andre Dubus III', 'year': '2000', 'pub': 'Vintage Books', 'bipartite': 1}\n",
      "6 0.5771256583897667 0440213525 {'title': 'The Client', 'author': 'John Grisham', 'year': '1994', 'pub': 'Dell Publishing Company', 'bipartite': 1}\n",
      "7 0.5769809428284854 0971880107 {'title': 'Wild Animus', 'author': 'Rich Shapero', 'year': '2004', 'pub': 'Too Far', 'bipartite': 1}\n",
      "8 0.5762584522915102 0446672211 {'title': \"Where the Heart Is (Oprah's Book Club (Paperback))\", 'author': 'Billie Letts', 'year': '1998', 'pub': 'Warner Books', 'bipartite': 1}\n",
      "9 0.5753938484621155 0060976845 {'title': 'Little Altars Everywhere: A Novel', 'author': 'Rebecca Wells', 'year': '1996', 'pub': 'Perennial', 'bipartite': 1}\n",
      "10 0.5735294117647058 0743418174 {'title': 'Good in Bed', 'author': 'Jennifer Weiner', 'year': '2002', 'pub': 'Washington Square Press', 'bipartite': 1}\n",
      "\n",
      "Top 10 books by closeness centrality (small graph):\n",
      "1 0.6666666666666666 2070375161 {'title': 'La Ferme Des Animaux', 'author': 'George Orwell', 'year': '0', 'pub': 'Gallimard French', 'bipartite': 1}\n",
      "2 0.5714285714285714 2253005274 {'title': 'Le Grand Meaulnes (Classiques De Poche)', 'author': 'Alain-Fournier', 'year': '2000', 'pub': 'Distribooks Inc', 'bipartite': 1}\n",
      "3 0.5333333333333333 2253044903 {'title': \"Le Parfum : Histoire d'un meurtrier\", 'author': 'Patrick Sï¿½?Â¼skind', 'year': '1988', 'pub': 'LGF', 'bipartite': 1}\n",
      "4 0.5 2266022504 {'title': \"Si c'est un homme\", 'author': 'Primo Levi', 'year': '1988', 'pub': 'Presses Pocket', 'bipartite': 1}\n",
      "5 0.42105263157894735 2070364283 {'title': 'La Perle', 'author': 'John Steinbeck', 'year': '1973', 'pub': 'Gallimard', 'bipartite': 1}\n",
      "6 0.38095238095238093 2253063339 {'title': 'Les Fourmis', 'author': 'Bernard Werber', 'year': '2002', 'pub': 'LGF', 'bipartite': 1}\n",
      "7 0.38095238095238093 2070360024 {'title': \"L'Etranger (Collection Folio, 2)\", 'author': 'Albert Camus', 'year': '1990', 'pub': 'Gallimard Jeunesse', 'bipartite': 1}\n",
      "8 0.36363636363636365 2290045764 {'title': 'Extension Du Domain De La Lutte', 'author': 'Michel Houellebecq', 'year': '2002', 'pub': 'European Book Co', 'bipartite': 1}\n",
      "9 0.36363636363636365 2290312959 {'title': 'Des fleurs pour algernon', 'author': 'Daniel Keyes', 'year': '2001', 'pub': \"J'ai lu\", 'bipartite': 1}\n",
      "\n"
     ]
    }
   ],
   "source": [
    "# Show the top 10 books by closeness centrality\n",
    "cent = nx.closeness_centrality(sg)\n",
    "cent_sorted = sorted(cent, key=lambda k: cent[k], reverse=True)\n",
    "print('Top 10 books by closeness centrality (large graph):')\n",
    "for i, k in enumerate(cent_sorted):\n",
    "    if i > 9: break\n",
    "    print(i+1, cent[k], k, sg.nodes(data=True)[k])\n",
    "print()\n",
    "cent = nx.closeness_centrality(sg2)\n",
    "cent_sorted = sorted(cent, key=lambda k: cent[k], reverse=True)\n",
    "print('Top 10 books by closeness centrality (small graph):')\n",
    "for i, k in enumerate(cent_sorted):\n",
    "    if i > 9: break\n",
    "    print(i+1, cent[k], k, sg2.nodes(data=True)[k])\n",
    "print()"
   ]
  },
  {
   "cell_type": "code",
   "execution_count": 20,
   "id": "50d47ace-c83d-49ce-8162-7d7214041543",
   "metadata": {},
   "outputs": [
    {
     "name": "stdout",
     "output_type": "stream",
     "text": [
      "Top 10 books by betweenness centrality (large graph):\n",
      "1 0.07372331096684341 0971880107 {'title': 'Wild Animus', 'author': 'Rich Shapero', 'year': '2004', 'pub': 'Too Far', 'bipartite': 1}\n",
      "2 0.04812602010987789 0316666343 {'title': 'The Lovely Bones: A Novel', 'author': 'Alice Sebold', 'year': '2002', 'pub': 'Little, Brown', 'bipartite': 1}\n",
      "3 0.04034160196336487 067976402X {'title': 'Snow Falling on Cedars', 'author': 'David Guterson', 'year': '1995', 'pub': 'Vintage Books USA', 'bipartite': 1}\n",
      "4 0.03881766749555699 0060928336 {'title': 'Divine Secrets of the Ya-Ya Sisterhood: A Novel', 'author': 'Rebecca Wells', 'year': '1997', 'pub': 'Perennial', 'bipartite': 1}\n",
      "5 0.03242301069992702 0440214041 {'title': 'The Pelican Brief', 'author': 'John Grisham', 'year': '1993', 'pub': 'Dell', 'bipartite': 1}\n",
      "6 0.032378881968620855 0440213525 {'title': 'The Client', 'author': 'John Grisham', 'year': '1994', 'pub': 'Dell Publishing Company', 'bipartite': 1}\n",
      "7 0.028513290026520557 0060976845 {'title': 'Little Altars Everywhere: A Novel', 'author': 'Rebecca Wells', 'year': '1996', 'pub': 'Perennial', 'bipartite': 1}\n",
      "8 0.026766318167374268 0312195516 {'title': 'The Red Tent (Bestselling Backlist)', 'author': 'Anita Diamant', 'year': '1998', 'pub': 'Picador USA', 'bipartite': 1}\n",
      "9 0.023668800991438647 0385504209 {'title': 'The Da Vinci Code', 'author': 'Dan Brown', 'year': '2003', 'pub': 'Doubleday', 'bipartite': 1}\n",
      "10 0.023191017445756596 0375727345 {'title': 'House of Sand and Fog', 'author': 'Andre Dubus III', 'year': '2000', 'pub': 'Vintage Books', 'bipartite': 1}\n",
      "\n",
      "Top 10 books by betweenness centrality (small graph) :\n",
      "1 0.6785714285714285 2070375161 {'title': 'La Ferme Des Animaux', 'author': 'George Orwell', 'year': '0', 'pub': 'Gallimard French', 'bipartite': 1}\n",
      "2 0.46428571428571425 2253005274 {'title': 'Le Grand Meaulnes (Classiques De Poche)', 'author': 'Alain-Fournier', 'year': '2000', 'pub': 'Distribooks Inc', 'bipartite': 1}\n",
      "3 0.46428571428571425 2253044903 {'title': \"Le Parfum : Histoire d'un meurtrier\", 'author': 'Patrick Sï¿½?Â¼skind', 'year': '1988', 'pub': 'LGF', 'bipartite': 1}\n",
      "4 0.0 2253063339 {'title': 'Les Fourmis', 'author': 'Bernard Werber', 'year': '2002', 'pub': 'LGF', 'bipartite': 1}\n",
      "5 0.0 2070360024 {'title': \"L'Etranger (Collection Folio, 2)\", 'author': 'Albert Camus', 'year': '1990', 'pub': 'Gallimard Jeunesse', 'bipartite': 1}\n",
      "6 0.0 2290045764 {'title': 'Extension Du Domain De La Lutte', 'author': 'Michel Houellebecq', 'year': '2002', 'pub': 'European Book Co', 'bipartite': 1}\n",
      "7 0.0 2070364283 {'title': 'La Perle', 'author': 'John Steinbeck', 'year': '1973', 'pub': 'Gallimard', 'bipartite': 1}\n",
      "8 0.0 2290312959 {'title': 'Des fleurs pour algernon', 'author': 'Daniel Keyes', 'year': '2001', 'pub': \"J'ai lu\", 'bipartite': 1}\n",
      "9 0.0 2266022504 {'title': \"Si c'est un homme\", 'author': 'Primo Levi', 'year': '1988', 'pub': 'Presses Pocket', 'bipartite': 1}\n",
      "\n"
     ]
    }
   ],
   "source": [
    "# Show the top 10 books by betweenness centrality\n",
    "cent = nx.betweenness_centrality(sg)\n",
    "cent_sorted = sorted(cent, key=lambda k: cent[k], reverse=True)\n",
    "print('Top 10 books by betweenness centrality (large graph):')\n",
    "for i, k in enumerate(cent_sorted):\n",
    "    if i > 9: break\n",
    "    print(i+1, cent[k], k, sg.nodes(data=True)[k])\n",
    "print()\n",
    "cent = nx.betweenness_centrality(sg2)\n",
    "cent_sorted = sorted(cent, key=lambda k: cent[k], reverse=True)\n",
    "print('Top 10 books by betweenness centrality (small graph) :')\n",
    "for i, k in enumerate(cent_sorted):\n",
    "    if i > 9: break\n",
    "    print(i+1, cent[k], k, sg2.nodes(data=True)[k])\n",
    "print()\n"
   ]
  },
  {
   "cell_type": "code",
   "execution_count": 21,
   "id": "86cf1c1b-b67a-4358-9f10-c55c31835a35",
   "metadata": {},
   "outputs": [
    {
     "name": "stdout",
     "output_type": "stream",
     "text": [
      "Top 10 books by eigenvector centrality (large subgraph):\n",
      "1 0.0958582960173183 0060928336 {'title': 'Divine Secrets of the Ya-Ya Sisterhood: A Novel', 'author': 'Rebecca Wells', 'year': '1997', 'pub': 'Perennial', 'bipartite': 1}\n",
      "2 0.09574190141510172 067976402X {'title': 'Snow Falling on Cedars', 'author': 'David Guterson', 'year': '1995', 'pub': 'Vintage Books USA', 'bipartite': 1}\n",
      "3 0.09338706356789328 0440214041 {'title': 'The Pelican Brief', 'author': 'John Grisham', 'year': '1993', 'pub': 'Dell', 'bipartite': 1}\n",
      "4 0.092979651868 0743418174 {'title': 'Good in Bed', 'author': 'Jennifer Weiner', 'year': '2002', 'pub': 'Washington Square Press', 'bipartite': 1}\n",
      "5 0.09237993519928012 0440222656 {'title': 'The Horse Whisperer', 'author': 'Nicholas Evans', 'year': '1996', 'pub': 'Dell', 'bipartite': 1}\n",
      "6 0.09236655432818784 0375727345 {'title': 'House of Sand and Fog', 'author': 'Andre Dubus III', 'year': '2000', 'pub': 'Vintage Books', 'bipartite': 1}\n",
      "7 0.09161787729640936 0446672211 {'title': \"Where the Heart Is (Oprah's Book Club (Paperback))\", 'author': 'Billie Letts', 'year': '1998', 'pub': 'Warner Books', 'bipartite': 1}\n",
      "8 0.09154644239181825 0316666343 {'title': 'The Lovely Bones: A Novel', 'author': 'Alice Sebold', 'year': '2002', 'pub': 'Little, Brown', 'bipartite': 1}\n",
      "9 0.09089526896539779 068484477X {'title': 'STONES FROM THE RIVER', 'author': 'Ursula Hegi', 'year': '1997', 'pub': 'Touchstone', 'bipartite': 1}\n",
      "10 0.0901866027930262 0060976845 {'title': 'Little Altars Everywhere: A Novel', 'author': 'Rebecca Wells', 'year': '1996', 'pub': 'Perennial', 'bipartite': 1}\n",
      "\n",
      "Top 10 books by eigenvector centrality (small subgraph):\n",
      "1 0.5562225788939408 2070375161 {'title': 'La Ferme Des Animaux', 'author': 'George Orwell', 'year': '0', 'pub': 'Gallimard French', 'bipartite': 1}\n",
      "2 0.5252293157917288 2253005274 {'title': 'Le Grand Meaulnes (Classiques De Poche)', 'author': 'Alain-Fournier', 'year': '2000', 'pub': 'Distribooks Inc', 'bipartite': 1}\n",
      "3 0.4139336438844735 2266022504 {'title': \"Si c'est un homme\", 'author': 'Primo Levi', 'year': '1988', 'pub': 'Presses Pocket', 'bipartite': 1}\n",
      "4 0.3011353903309166 2253044903 {'title': \"Le Parfum : Histoire d'un meurtrier\", 'author': 'Patrick Sï¿½?Â¼skind', 'year': '1988', 'pub': 'LGF', 'bipartite': 1}\n",
      "5 0.21289863766130515 2070364283 {'title': 'La Perle', 'author': 'John Steinbeck', 'year': '1973', 'pub': 'Gallimard', 'bipartite': 1}\n",
      "6 0.2010350062231684 2253063339 {'title': 'Les Fourmis', 'author': 'Bernard Werber', 'year': '2002', 'pub': 'LGF', 'bipartite': 1}\n",
      "7 0.2010350062231684 2070360024 {'title': \"L'Etranger (Collection Folio, 2)\", 'author': 'Albert Camus', 'year': '1990', 'pub': 'Gallimard Jeunesse', 'bipartite': 1}\n",
      "8 0.11526284383953933 2290045764 {'title': 'Extension Du Domain De La Lutte', 'author': 'Michel Houellebecq', 'year': '2002', 'pub': 'European Book Co', 'bipartite': 1}\n",
      "9 0.11526284383953933 2290312959 {'title': 'Des fleurs pour algernon', 'author': 'Daniel Keyes', 'year': '2001', 'pub': \"J'ai lu\", 'bipartite': 1}\n",
      "\n"
     ]
    }
   ],
   "source": [
    "# Show the top 10 books by eigenvector centrality\n",
    "cent = nx.eigenvector_centrality(sg)\n",
    "cent_sorted = sorted(cent, key=lambda k: cent[k], reverse=True)\n",
    "print('Top 10 books by eigenvector centrality (large subgraph):')\n",
    "for i, k in enumerate(cent_sorted):\n",
    "    if i > 9: break\n",
    "    print(i+1, cent[k], k, sg.nodes(data=True)[k])\n",
    "print()\n",
    "cent = nx.eigenvector_centrality(sg2)\n",
    "cent_sorted = sorted(cent, key=lambda k: cent[k], reverse=True)\n",
    "print('Top 10 books by eigenvector centrality (small subgraph):')\n",
    "for i, k in enumerate(cent_sorted):\n",
    "    if i > 9: break\n",
    "    print(i+1, cent[k], k, sg2.nodes(data=True)[k])\n",
    "print()\n"
   ]
  },
  {
   "cell_type": "code",
   "execution_count": 22,
   "id": "f7cb7696-1f09-4b3f-92e7-1ee1b7e5cf75",
   "metadata": {},
   "outputs": [
    {
     "name": "stdout",
     "output_type": "stream",
     "text": [
      "Top 10 books by page rank (large subgraph):\n",
      "1 0.007846773166977194 0971880107 {'title': 'Wild Animus', 'author': 'Rich Shapero', 'year': '2004', 'pub': 'Too Far', 'bipartite': 1}\n",
      "2 0.00714249821008082 0316666343 {'title': 'The Lovely Bones: A Novel', 'author': 'Alice Sebold', 'year': '2002', 'pub': 'Little, Brown', 'bipartite': 1}\n",
      "3 0.006625690438150803 067976402X {'title': 'Snow Falling on Cedars', 'author': 'David Guterson', 'year': '1995', 'pub': 'Vintage Books USA', 'bipartite': 1}\n",
      "4 0.0064587713019459165 0060928336 {'title': 'Divine Secrets of the Ya-Ya Sisterhood: A Novel', 'author': 'Rebecca Wells', 'year': '1997', 'pub': 'Perennial', 'bipartite': 1}\n",
      "5 0.005803044164595057 0440214041 {'title': 'The Pelican Brief', 'author': 'John Grisham', 'year': '1993', 'pub': 'Dell', 'bipartite': 1}\n",
      "6 0.0056016294993126775 0440213525 {'title': 'The Client', 'author': 'John Grisham', 'year': '1994', 'pub': 'Dell Publishing Company', 'bipartite': 1}\n",
      "7 0.005464083143177435 0060976845 {'title': 'Little Altars Everywhere: A Novel', 'author': 'Rebecca Wells', 'year': '1996', 'pub': 'Perennial', 'bipartite': 1}\n",
      "8 0.005380079711640979 0375727345 {'title': 'House of Sand and Fog', 'author': 'Andre Dubus III', 'year': '2000', 'pub': 'Vintage Books', 'bipartite': 1}\n",
      "9 0.005279428942100338 0446672211 {'title': \"Where the Heart Is (Oprah's Book Club (Paperback))\", 'author': 'Billie Letts', 'year': '1998', 'pub': 'Warner Books', 'bipartite': 1}\n",
      "10 0.005151769018059699 0312195516 {'title': 'The Red Tent (Bestselling Backlist)', 'author': 'Anita Diamant', 'year': '1998', 'pub': 'Picador USA', 'bipartite': 1}\n",
      "\n",
      "Top 10 books by page rank (small subgraph):\n",
      "1 0.20803266203348034 2253005274 {'title': 'Le Grand Meaulnes (Classiques De Poche)', 'author': 'Alain-Fournier', 'year': '2000', 'pub': 'Distribooks Inc', 'bipartite': 1}\n",
      "2 0.20477732489032605 2070375161 {'title': 'La Ferme Des Animaux', 'author': 'George Orwell', 'year': '0', 'pub': 'Gallimard French', 'bipartite': 1}\n",
      "3 0.1707702059511863 2253044903 {'title': \"Le Parfum : Histoire d'un meurtrier\", 'author': 'Patrick Sï¿½?Â¼skind', 'year': '1988', 'pub': 'LGF', 'bipartite': 1}\n",
      "4 0.10438897980057599 2266022504 {'title': \"Si c'est un homme\", 'author': 'Primo Levi', 'year': '1988', 'pub': 'Presses Pocket', 'bipartite': 1}\n",
      "5 0.0650508802998993 2290045764 {'title': 'Extension Du Domain De La Lutte', 'author': 'Michel Houellebecq', 'year': '2002', 'pub': 'European Book Co', 'bipartite': 1}\n",
      "6 0.0650508802998993 2290312959 {'title': 'Des fleurs pour algernon', 'author': 'Daniel Keyes', 'year': '2001', 'pub': \"J'ai lu\", 'bipartite': 1}\n",
      "7 0.06087342025739 2253063339 {'title': 'Les Fourmis', 'author': 'Bernard Werber', 'year': '2002', 'pub': 'LGF', 'bipartite': 1}\n",
      "8 0.06087342025739 2070360024 {'title': \"L'Etranger (Collection Folio, 2)\", 'author': 'Albert Camus', 'year': '1990', 'pub': 'Gallimard Jeunesse', 'bipartite': 1}\n",
      "9 0.06018222620985264 2070364283 {'title': 'La Perle', 'author': 'John Steinbeck', 'year': '1973', 'pub': 'Gallimard', 'bipartite': 1}\n",
      "\n"
     ]
    }
   ],
   "source": [
    "# Show the top 10 books by page rank\n",
    "cent = nx.pagerank(sg)\n",
    "cent_sorted = sorted(cent, key=lambda k: cent[k], reverse=True)\n",
    "print('Top 10 books by page rank (large subgraph):')\n",
    "for i, k in enumerate(cent_sorted):\n",
    "    if i > 9: break\n",
    "    print(i+1, cent[k], k, sg.nodes(data=True)[k])\n",
    "print()\n",
    "cent = nx.pagerank(sg2)\n",
    "cent_sorted = sorted(cent, key=lambda k: cent[k], reverse=True)\n",
    "print('Top 10 books by page rank (small subgraph):')\n",
    "for i, k in enumerate(cent_sorted):\n",
    "    if i > 9: break\n",
    "    print(i+1, cent[k], k, sg2.nodes(data=True)[k])\n",
    "print()\n"
   ]
  },
  {
   "cell_type": "markdown",
   "id": "4c63f3ae-398e-45d1-8343-6f27e063d9a8",
   "metadata": {},
   "source": [
    "### Cliques\n",
    "\n",
    "Find cliques within the large subgraph; omit doing this for the small subgraph since it only has a few nodes.\n"
   ]
  },
  {
   "cell_type": "code",
   "execution_count": 136,
   "id": "175039de-68f6-4db7-a5df-93fee68641ab",
   "metadata": {},
   "outputs": [
    {
     "name": "stdout",
     "output_type": "stream",
     "text": [
      "Number of cliques: 14085343\n",
      "Clique sizes: {11: 1343, 23: 54685, 21: 33177, 24: 70865, 19: 19186, 20: 25174, 8: 566, 22: 42831, 18: 15700, 25: 91302, 16: 6924, 17: 11095, 27: 148543, 29: 236373, 28: 190049, 31: 343501, 33: 467581, 32: 402516, 30: 287864, 26: 118953, 34: 550544, 9: 754, 15: 5086, 35: 649457, 5: 257, 6: 329, 14: 3576, 4: 236, 13: 2723, 12: 1951, 10: 1099, 3: 261, 36: 765754, 37: 862683, 38: 936687, 39: 979182, 7: 409, 2: 355, 41: 937950, 54: 37886, 40: 973569, 58: 6186, 44: 648087, 43: 758360, 42: 856363, 47: 390435, 46: 466476, 45: 551088, 48: 324721, 51: 138644, 52: 95506, 50: 200126, 49: 258943, 53: 61306, 56: 13232, 55: 21146, 57: 8533, 63: 253, 61: 813, 72: 8, 62: 455, 60: 1546, 70: 15, 59: 3645, 99: 1, 66: 58, 68: 36, 64: 171, 71: 9, 65: 110, 75: 3, 67: 59, 69: 19, 73: 6, 81: 2, 80: 1, 74: 2, 94: 1, 77: 2}\n"
     ]
    }
   ],
   "source": [
    "# Find cliques\n",
    "cliques = list(nx.find_cliques(sg))\n",
    "sorted_cliques = sorted(cliques, key=lambda k: len(k), reverse=True)\n",
    "print('Number of cliques:', len(cliques))\n",
    "\n",
    "# Find clique sizes\n",
    "clique_sz = [len(clique) for clique in cliques]\n",
    "print('Clique sizes:', dict(Counter(clique_sz)))\n"
   ]
  },
  {
   "cell_type": "code",
   "execution_count": 137,
   "id": "aa3f1ef6-fad3-4f0b-9ca7-05e4de82606c",
   "metadata": {},
   "outputs": [
    {
     "data": {
      "image/png": "[encoded data removed]",
      "text/plain": [
       "<Figure size 432x288 with 1 Axes>"
      ]
     },
     "metadata": {
      "needs_background": "light"
     },
     "output_type": "display_data"
    }
   ],
   "source": [
    "# Histogram of clique sizes\n",
    "plt.hist(clique_sz, bins=15)\n",
    "plt.xlabel('Clique size')\n",
    "plt.ylabel('Count of clique sizes')\n",
    "plt.show()\n"
   ]
  },
  {
   "cell_type": "code",
   "execution_count": 139,
   "id": "2a3246a3-73dd-42b0-ab40-a60b7e301d81",
   "metadata": {},
   "outputs": [
    {
     "name": "stdout",
     "output_type": "stream",
     "text": [
      "Mean: 38.90921910811828\n",
      "MEdian: 39.0\n",
      "Max: 99\n",
      "Min: 2\n",
      "Std dev: 6.427171230747485\n"
     ]
    }
   ],
   "source": [
    "# Clique summary stats\n",
    "print('Mean:', np.mean(clique_sz))\n",
    "print('Median:', np.median(clique_sz))\n",
    "print('Max:', np.max(clique_sz))\n",
    "print('Min:', np.min(clique_sz))\n",
    "print('Std dev:', np.std(clique_sz))\n"
   ]
  },
  {
   "cell_type": "markdown",
   "id": "2a6afa68-0693-4621-9b45-277cfd68b598",
   "metadata": {},
   "source": [
    "### Ego graphs\n",
    "\n",
    "Look at the ego graphs of the top books from each subgraph.\n"
   ]
  },
  {
   "cell_type": "code",
   "execution_count": 37,
   "id": "7ea09386-2e38-4a94-a898-ae1337530b7a",
   "metadata": {},
   "outputs": [
    {
     "name": "stdout",
     "output_type": "stream",
     "text": [
      "Large subgraph: Graph with 49 nodes and 48 edges\n",
      "Small subgraph: Graph with 5 nodes and 4 edges\n"
     ]
    },
    {
     "data": {
      "image/png": "[encoded data removed]",
      "text/plain": [
       "<Figure size 432x288 with 1 Axes>"
      ]
     },
     "metadata": {},
     "output_type": "display_data"
    },
    {
     "data": {
      "image/png": "[encoded data removed]",
      "text/plain": [
       "<Figure size 432x288 with 1 Axes>"
      ]
     },
     "metadata": {},
     "output_type": "display_data"
    }
   ],
   "source": [
    "# Get the ego graph of the top books from each subgraph\n",
    "eg = nx.ego_graph(g, '067976402X', center=False)    # Snow Falling on Cedars\n",
    "eg1 = nx.ego_graph(g, '2070375161', center=False)   # La Ferme Des Animaux\n",
    "print('Large subgraph:', eg)\n",
    "print('Small subgraph:', eg1)\n",
    "\n",
    "# Draw ego graphs\n",
    "plt.figure(1)\n",
    "nx.draw(eg)\n",
    "plt.figure(2)\n",
    "nx.draw(eg1)\n"
   ]
  },
  {
   "cell_type": "code",
   "execution_count": 42,
   "id": "64abf603-c364-4c2d-a2dc-cb9ce3a32711",
   "metadata": {},
   "outputs": [
    {
     "name": "stdout",
     "output_type": "stream",
     "text": [
      "1 {'loc': 'portland, oregon, usa', 'age': 'NULL', 'bipartite': 0}\n",
      "2 {'loc': 'iowa city, iowa, usa', 'age': '33', 'bipartite': 0}\n",
      "3 {'loc': 'new york, new york, usa', 'age': 'NULL', 'bipartite': 0}\n",
      "4 {'loc': 'river john, nova scotia, canada', 'age': '70', 'bipartite': 0}\n",
      "5 {'loc': 'kajang, selangor, malaysia', 'age': '33', 'bipartite': 0}\n",
      "6 {'loc': 'mechanicsville, maryland, usa', 'age': '47', 'bipartite': 0}\n",
      "7 {'loc': 'hamilton, ,', 'age': 'NULL', 'bipartite': 0}\n",
      "8 {'loc': 'n/a, n/a, n/a', 'age': 'NULL', 'bipartite': 0}\n",
      "9 {'loc': 'puchong, selangor, malaysia', 'age': '32', 'bipartite': 0}\n",
      "10 {'loc': 'winnipeg, manitoba, canada', 'age': '27', 'bipartite': 0}\n",
      "\n",
      "1 {'loc': 'paris, n/a, france', 'age': 'NULL', 'bipartite': 0}\n",
      "2 {'title': 'La Ferme Des Animaux', 'author': 'George Orwell', 'year': '0', 'pub': 'Gallimard French', 'bipartite': 1}\n",
      "3 {'loc': 'paris, ile-de-france, france', 'age': '47', 'bipartite': 0}\n",
      "4 {'loc': 'rennes, bretagne, france', 'age': '22', 'bipartite': 0}\n",
      "5 {'loc': 'n/a, n/a, n/a', 'age': 'NULL', 'bipartite': 0}\n",
      "\n"
     ]
    }
   ],
   "source": [
    "# Show the first few readers of each ego graph\n",
    "for i, n in enumerate(eg.nodes):\n",
    "    if i > 9: break\n",
    "    print(i+1, g.nodes(data=True)[n])\n",
    "print()\n",
    "for i, n in enumerate(eg1.nodes):\n",
    "    if i > 9: break\n",
    "    print(i+1, g.nodes(data=True)[n])\n",
    "print()\n"
   ]
  },
  {
   "cell_type": "markdown",
   "id": "62eba971-51f3-441e-9e63-dbd093a63c94",
   "metadata": {},
   "source": [
    "This shows that the readers are split by geographic location.\n"
   ]
  },
  {
   "cell_type": "markdown",
   "id": "bc86c567-9d45-4bd9-b953-760bf7f385b6",
   "metadata": {},
   "source": [
    "### Readership correlation\n",
    "\n",
    "Based on the above, is there evidence to suggest factors other than country of origin make readers read the same books? To that end, examine the ego graphs of the small subgraphs (those that had more than two nodes but fewer than nine). I.e., see if books appeal to a certain age range of readers, or to readers in a certain area of the USA.\n"
   ]
  },
  {
   "cell_type": "code",
   "execution_count": 262,
   "id": "11efb206-21a9-45dd-812d-16ada548e5fb",
   "metadata": {},
   "outputs": [
    {
     "data": {
      "text/html": [
       "<div>\n",
       "<style scoped>\n",
       "    .dataframe tbody tr th:only-of-type {\n",
       "        vertical-align: middle;\n",
       "    }\n",
       "\n",
       "    .dataframe tbody tr th {\n",
       "        vertical-align: top;\n",
       "    }\n",
       "\n",
       "    .dataframe thead th {\n",
       "        text-align: right;\n",
       "    }\n",
       "</style>\n",
       "<table border=\"1\" class=\"dataframe\">\n",
       "  <thead>\n",
       "    <tr style=\"text-align: right;\">\n",
       "      <th></th>\n",
       "      <th>isbn</th>\n",
       "      <th>loc</th>\n",
       "      <th>age</th>\n",
       "      <th>city</th>\n",
       "      <th>state</th>\n",
       "      <th>country</th>\n",
       "      <th>region</th>\n",
       "      <th>division</th>\n",
       "    </tr>\n",
       "  </thead>\n",
       "  <tbody>\n",
       "    <tr>\n",
       "      <th>0</th>\n",
       "      <td>0452281431</td>\n",
       "      <td>byron, minnesota, usa</td>\n",
       "      <td>18</td>\n",
       "      <td>byron</td>\n",
       "      <td>minnesota</td>\n",
       "      <td>usa</td>\n",
       "      <td>Midwest</td>\n",
       "      <td>West North Central</td>\n",
       "    </tr>\n",
       "    <tr>\n",
       "      <th>1</th>\n",
       "      <td>0452281431</td>\n",
       "      <td>seattle, washington, usa</td>\n",
       "      <td>26</td>\n",
       "      <td>seattle</td>\n",
       "      <td>washington</td>\n",
       "      <td>usa</td>\n",
       "      <td>West</td>\n",
       "      <td>Pacific</td>\n",
       "    </tr>\n",
       "    <tr>\n",
       "      <th>2</th>\n",
       "      <td>0452281431</td>\n",
       "      <td>chicago, illinois, usa</td>\n",
       "      <td>27</td>\n",
       "      <td>chicago</td>\n",
       "      <td>illinois</td>\n",
       "      <td>usa</td>\n",
       "      <td>Midwest</td>\n",
       "      <td>East North Central</td>\n",
       "    </tr>\n",
       "    <tr>\n",
       "      <th>3</th>\n",
       "      <td>0452281458</td>\n",
       "      <td>seattle, washington, usa</td>\n",
       "      <td>26</td>\n",
       "      <td>seattle</td>\n",
       "      <td>washington</td>\n",
       "      <td>usa</td>\n",
       "      <td>West</td>\n",
       "      <td>Pacific</td>\n",
       "    </tr>\n",
       "    <tr>\n",
       "      <th>4</th>\n",
       "      <td>0452281458</td>\n",
       "      <td>byron, minnesota, usa</td>\n",
       "      <td>18</td>\n",
       "      <td>byron</td>\n",
       "      <td>minnesota</td>\n",
       "      <td>usa</td>\n",
       "      <td>Midwest</td>\n",
       "      <td>West North Central</td>\n",
       "    </tr>\n",
       "    <tr>\n",
       "      <th>...</th>\n",
       "      <td>...</td>\n",
       "      <td>...</td>\n",
       "      <td>...</td>\n",
       "      <td>...</td>\n",
       "      <td>...</td>\n",
       "      <td>...</td>\n",
       "      <td>...</td>\n",
       "      <td>...</td>\n",
       "    </tr>\n",
       "    <tr>\n",
       "      <th>145</th>\n",
       "      <td>1841721522</td>\n",
       "      <td>palma de mallorca, baleares, spain</td>\n",
       "      <td>37</td>\n",
       "      <td>palma de mallorca</td>\n",
       "      <td>baleares</td>\n",
       "      <td>spain</td>\n",
       "      <td></td>\n",
       "      <td></td>\n",
       "    </tr>\n",
       "    <tr>\n",
       "      <th>146</th>\n",
       "      <td>1841721522</td>\n",
       "      <td>barcelona, catalunya, spain</td>\n",
       "      <td>17</td>\n",
       "      <td>barcelona</td>\n",
       "      <td>catalunya</td>\n",
       "      <td>spain</td>\n",
       "      <td></td>\n",
       "      <td></td>\n",
       "    </tr>\n",
       "    <tr>\n",
       "      <th>147</th>\n",
       "      <td>1841721522</td>\n",
       "      <td>mï¿½laga, andalucia, spain</td>\n",
       "      <td>35</td>\n",
       "      <td>mï¿½laga</td>\n",
       "      <td>andalucia</td>\n",
       "      <td>spain</td>\n",
       "      <td></td>\n",
       "      <td></td>\n",
       "    </tr>\n",
       "    <tr>\n",
       "      <th>148</th>\n",
       "      <td>1841721522</td>\n",
       "      <td>albacete, wisconsin, spain</td>\n",
       "      <td>26</td>\n",
       "      <td>albacete</td>\n",
       "      <td>wisconsin</td>\n",
       "      <td>spain</td>\n",
       "      <td></td>\n",
       "      <td></td>\n",
       "    </tr>\n",
       "    <tr>\n",
       "      <th>149</th>\n",
       "      <td>1841721522</td>\n",
       "      <td>cadiz, cadiz, spain</td>\n",
       "      <td>30</td>\n",
       "      <td>cadiz</td>\n",
       "      <td>cadiz</td>\n",
       "      <td>spain</td>\n",
       "      <td></td>\n",
       "      <td></td>\n",
       "    </tr>\n",
       "  </tbody>\n",
       "</table>\n",
       "<p>150 rows × 8 columns</p>\n",
       "</div>"
      ],
      "text/plain": [
       "           isbn                                 loc age               city  \\\n",
       "0    0452281431               byron, minnesota, usa  18              byron   \n",
       "1    0452281431            seattle, washington, usa  26            seattle   \n",
       "2    0452281431              chicago, illinois, usa  27            chicago   \n",
       "3    0452281458            seattle, washington, usa  26            seattle   \n",
       "4    0452281458               byron, minnesota, usa  18              byron   \n",
       "..          ...                                 ...  ..                ...   \n",
       "145  1841721522  palma de mallorca, baleares, spain  37  palma de mallorca   \n",
       "146  1841721522         barcelona, catalunya, spain  17          barcelona   \n",
       "147  1841721522          mï¿½laga, andalucia, spain  35           mï¿½laga   \n",
       "148  1841721522          albacete, wisconsin, spain  26           albacete   \n",
       "149  1841721522                 cadiz, cadiz, spain  30              cadiz   \n",
       "\n",
       "          state country   region            division  \n",
       "0     minnesota     usa  Midwest  West North Central  \n",
       "1    washington     usa     West             Pacific  \n",
       "2      illinois     usa  Midwest  East North Central  \n",
       "3    washington     usa     West             Pacific  \n",
       "4     minnesota     usa  Midwest  West North Central  \n",
       "..          ...     ...      ...                 ...  \n",
       "145    baleares   spain                               \n",
       "146   catalunya   spain                               \n",
       "147   andalucia   spain                               \n",
       "148   wisconsin   spain                               \n",
       "149       cadiz   spain                               \n",
       "\n",
       "[150 rows x 8 columns]"
      ]
     },
     "metadata": {},
     "output_type": "display_data"
    }
   ],
   "source": [
    "# Generate list of subgraph indices to create\n",
    "small_subgraph_indexes = list(range(1, 20))\n",
    "small_subgraph_indexes.remove(4)\n",
    "\n",
    "# Generate subgraphs\n",
    "for i in small_subgraph_indexes:\n",
    "    sg_tmp = g2.subgraph(cc[i])\n",
    "    for n in sg_tmp.nodes(data=True):\n",
    "        n[1]['subgraph'] = i\n",
    "small_subgraphs = [n for n in g2.nodes(data=True) if 'subgraph' in g2.nodes(data=True)[n[0]].keys()]\n",
    "\n",
    "# Create a dataframe to hold the book ISBNs\n",
    "df1 = pd.DataFrame()\n",
    "df1['isbn'] = [n[0] for n in small_subgraphs]\n",
    "df1['subgraph'] = [n[1]['subgraph'] for n in small_subgraphs]\n",
    "\n",
    "# Create a dataframe to hold the reader metadata\n",
    "df2 = pd.DataFrame()\n",
    "for book in df1['isbn']:\n",
    "    eg_tmp = nx.ego_graph(g, book, center=False)\n",
    "    for reader in eg_tmp.nodes(data=True):\n",
    "        new_row = pd.DataFrame({'isbn': book, 'loc': reader[1]['loc'], 'age': reader[1]['age']}, index = [0])\n",
    "        df2 = pd.concat([new_row, df2.loc[:]]).reset_index(drop=True)\n",
    "\n",
    "# Split location field by city, state, and country\n",
    "loc = df2['loc'].str.split(', ')\n",
    "\n",
    "# Fix errant location\n",
    "for i, l in enumerate(loc):\n",
    "    if l[0] == 'indianapolis' and l[1] == 'indiana,':\n",
    "        loc[i] = ['indianapolis', 'indiana', 'usa']\n",
    "\n",
    "# Add city, state, and country to data frame\n",
    "df2['city'] = [locality[0] for locality in loc]\n",
    "df2['state'] = [locality[1] for locality in loc]\n",
    "df2['country'] = [locality[2] for locality in loc]\n",
    "\n",
    "# Create lookup for region, as divided by the US Census Bureau\n",
    "state_dict = {}\n",
    "s = \"\"\"Northeast; New England; (Connecticut, Maine, Massachusetts, New Hampshire, Rhode Island, Vermont)\n",
    "Northeast; Mid-Atlantic; (New Jersey, New York, Pennsylvania)\n",
    "Midwest; East North Central; (Illinois, Indiana, Michigan, Ohio, Wisconsin)\n",
    "Midwest; West North Central; (Iowa, Kansas, Minnesota, Missouri, Nebraska, North Dakota, South Dakota)\n",
    "South; South Atlantic; (Delaware, Florida, Georgia, Maryland, North Carolina, South Carolina, Virginia, Washington D.C., West Virginia)\n",
    "South; East South Central; (Alabama, Kentucky, Mississippi, Tennessee)\n",
    "South; West South Central; (Arkansas, Louisiana, Oklahoma, Texas)\n",
    "West; Mountain; (Arizona, Colorado, Idaho, Montana, Nevada, New Mexico, Utah, Wyoming)\n",
    "West; Pacific; (Alaska, California, Hawaii, Oregon, Washington)\"\"\"\n",
    "r1 = s.split('\\n')\n",
    "for r2 in r1:\n",
    "    r3 = r2.split('; ')\n",
    "    reg = r3[0]\n",
    "    div = r3[1]\n",
    "    states = r3[2].replace('(', '')    # remove parenthesis\n",
    "    states = states.replace(')', '')    # remove parenthesis\n",
    "    states = states.split(', ')\n",
    "    for state in states:\n",
    "        if state == 'Washington D.C.':\n",
    "            state = 'Washington, D.C.'    # add comma\n",
    "        state_dict[state.lower()] = {'region': reg, 'division': div}\n",
    "\n",
    "# Populate dataframe with regions and division (if in the USA)\n",
    "df2['region'] = ''      # seed with empty region\n",
    "df2['division'] = ''    # seed with empty division\n",
    "for row in df2.iterrows():\n",
    "    if row[1]['country'] == 'usa':\n",
    "        if row[1]['state'] in state_dict.keys():\n",
    "            row[1]['region'] = state_dict[row[1]['state']]['region']\n",
    "            row[1]['division'] = state_dict[row[1]['state']]['division']\n",
    "display(df2)\n"
   ]
  },
  {
   "cell_type": "code",
   "execution_count": 229,
   "id": "784057d6-ba1c-4790-8357-4f10195a0c31",
   "metadata": {},
   "outputs": [
    {
     "name": "stdout",
     "output_type": "stream",
     "text": [
      "         regions      count  variability\n",
      "count  35.000000  35.000000    35.000000\n",
      "mean    2.085714   2.628571     0.819388\n",
      "std     0.886879   1.139807     0.221225\n",
      "min     1.000000   1.000000     0.428571\n",
      "25%     1.000000   2.000000     0.666667\n",
      "50%     2.000000   3.000000     1.000000\n",
      "75%     3.000000   3.000000     1.000000\n",
      "max     4.000000   7.000000     1.000000\n"
     ]
    }
   ],
   "source": [
    "# Regions\n",
    "df3 = pd.DataFrame(df2.loc[df2['country'] == 'usa'].groupby(['isbn'], as_index=False).agg(regions=('region', 'nunique'), count=('region', 'size')))\n",
    "df3['variability'] = df3['regions']/df3['count']\n",
    "print(df3.describe())\n"
   ]
  },
  {
   "cell_type": "markdown",
   "id": "cd464582-c4ac-4488-8ca1-3521f656150f",
   "metadata": {},
   "source": [
    "The average variability in the region data is 0.82, so there is too much variation in the region to say that there is a statistical correlation.\n"
   ]
  },
  {
   "cell_type": "code",
   "execution_count": 258,
   "id": "2b038dac-6b53-40f8-a53f-2db6d7bbdc4e",
   "metadata": {},
   "outputs": [
    {
     "name": "stdout",
     "output_type": "stream",
     "text": [
      "         min_age    max_age  age_range\n",
      "count  38.000000  38.000000  38.000000\n",
      "mean   22.368421  40.157895  17.789474\n",
      "std     7.309457  11.881228  14.443100\n",
      "min     8.000000  18.000000   0.000000\n",
      "25%    18.000000  32.500000   9.500000\n",
      "50%    23.000000  41.000000  16.500000\n",
      "75%    27.000000  46.000000  23.250000\n",
      "max    34.000000  68.000000  55.000000\n"
     ]
    }
   ],
   "source": [
    "# Age\n",
    "df2 = df2.replace('NULL', np.nan)\n",
    "df2['age'] = df2['age'].astype(float)\n",
    "df4 = pd.DataFrame(df2.loc[(df2['age'] != np.nan) & (df2['age'] < 120)].groupby(['isbn'], as_index=False).agg(min_age=('age', 'min'), max_age=('age', 'max')))\n",
    "df4['age_range'] = df4['max_age'] - df4['min_age']\n",
    "print(df4.describe())\n"
   ]
  },
  {
   "cell_type": "markdown",
   "id": "20a66f02-81c1-4184-abd5-46f684b78eb4",
   "metadata": {},
   "source": [
    "Based on the fact that the mean age range is 17.8 years, there doesn't seem to be statistical evidence that the books attract readers of the same age range.\n"
   ]
  },
  {
   "cell_type": "markdown",
   "id": "e8f1a3e1-a7e3-4c28-8834-91081e1d032a",
   "metadata": {},
   "source": [
    "### Analysis and conclusions\n",
    "\n",
    "Based on the results, a few conclusions can be drawn:\n",
    "\n",
    "1. Partitioning the network into subgraphs makes it clear that the groups were separated by the readers' language (English for the large subgraph, French for the small one).\n",
    "1. In the large subgraph, <i>Snow Falling on Cedars</i> and <i>Divine Secrets of the Ya-Ya Sisterhood</i> were in the top four for all centrality degree metrics, which suggests that they were widely read.\n",
    "1. <i>Divine Secrets of the Ya-Ya Sisterhood</i> had the highest eigenvector centrality, indicating that it was read by the most prolific readers.\n",
    "1. <i>Wild Animus</i> had the highest betweenness centrality, suggesting that it was a cross-over book of sorts that possibly spanned genres.\n",
    "1. <i>Snow Falling on Cedars</i> tops the closeness centrality chart, so it can be infered that it was the one that appealed to a wide audience.\n",
    "1. In the small subgraph, Orwell's translation of <i>Animal Farm</i> (<i>La Ferme Des Animaux</i>) ranked either first or second by all centrality metrics.\n",
    "1. Clique sizes within the large subgroup are normally distributed with a mean of 38.9, which could mean that most readers on the site review about that many books, or that the same several readers review about that many books.\n",
    "1. The ego graphs of the top books confirm that the readers are, indeed, separated by language, as infered by geographic location of the reader.\n",
    "1. However, there does not seem to be the same kind of correlation among readers based on their age or their region of the US.\n"
   ]
  }
 ],
 "metadata": {
  "kernelspec": {
   "display_name": "Python 3 (ipykernel)",
   "language": "python",
   "name": "python3"
  },
  "language_info": {
   "codemirror_mode": {
    "name": "ipython",
    "version": 3
   },
   "file_extension": ".py",
   "mimetype": "text/x-python",
   "name": "python",
   "nbconvert_exporter": "python",
   "pygments_lexer": "ipython3",
   "version": "3.9.12"
  }
 },
 "nbformat": 4,
 "nbformat_minor": 5
}
